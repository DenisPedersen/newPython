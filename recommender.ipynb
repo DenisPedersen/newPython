{
 "cells": [
  {
   "cell_type": "code",
   "execution_count": 5,
   "metadata": {},
   "outputs": [
    {
     "ename": "ModuleNotFoundError",
     "evalue": "No module named 'implicit'",
     "output_type": "error",
     "traceback": [
      "\u001b[1;31m---------------------------------------------------------------------------\u001b[0m",
      "\u001b[1;31mModuleNotFoundError\u001b[0m                       Traceback (most recent call last)",
      "Cell \u001b[1;32mIn[5], line 9\u001b[0m\n\u001b[0;32m      6\u001b[0m \u001b[39mfrom\u001b[39;00m \u001b[39mpathlib\u001b[39;00m \u001b[39mimport\u001b[39;00m Path\n\u001b[0;32m      7\u001b[0m \u001b[39mfrom\u001b[39;00m \u001b[39mtyping\u001b[39;00m \u001b[39mimport\u001b[39;00m Tuple, List\n\u001b[1;32m----> 9\u001b[0m \u001b[39mimport\u001b[39;00m \u001b[39mimplicit\u001b[39;00m\n\u001b[0;32m     10\u001b[0m \u001b[39mimport\u001b[39;00m \u001b[39mscipy\u001b[39;00m\n\u001b[0;32m     12\u001b[0m \u001b[39mfrom\u001b[39;00m \u001b[39mrecommender\u001b[39;00m \u001b[39mimport\u001b[39;00m data\n",
      "\u001b[1;31mModuleNotFoundError\u001b[0m: No module named 'implicit'"
     ]
    }
   ],
   "source": [
    "\"\"\"This module features the ImplicitRecommender class that performs\n",
    "recommendation using the implicit library.\n",
    "\"\"\"\n",
    "\n",
    "\n",
    "from pathlib import Path\n",
    "from typing import Tuple, List\n",
    "\n",
    "import implicit\n",
    "import scipy\n",
    "\n",
    "from recommender import data\n",
    "from data import load_user_artist\n",
    "\n",
    "class ImplicitRecommender:\n",
    "    \"\"\"The ImplicitRecommender class computes recommendations for a given user\n",
    "    using the implicit library.\n",
    "    Attributes:\n",
    "        - artist_retriever: an ArtistRetriever instance\n",
    "        - implicit_model: an implicit model\n",
    "    \"\"\"\n",
    "\n",
    "    def __init__(\n",
    "        self,\n",
    "        artist_retriever: ArtistRetriever,\n",
    "        implicit_model: implicit.recommender_base.RecommenderBase,\n",
    "    ):\n",
    "        self.artist_retriever = artist_retriever\n",
    "        self.implicit_model = implicit_model\n",
    "\n",
    "    def fit(self, user_artists_matrix: scipy.sparse.csr_matrix) -> None:\n",
    "        \"\"\"Fit the model to the user artists matrix.\"\"\"\n",
    "        self.implicit_model.fit(user_artists_matrix)\n",
    "\n",
    "    def recommend(\n",
    "        self,\n",
    "        user_id: int,\n",
    "        user_artists_matrix: scipy.sparse.csr_matrix,\n",
    "        n: int = 10,\n",
    "    ) -> Tuple[List[str], List[float]]:\n",
    "        \"\"\"Return the top n recommendations for the given user.\"\"\"\n",
    "        artist_ids, scores = self.implicit_model.recommend(\n",
    "            user_id, user_artists_matrix[n], N=n\n",
    "        )\n",
    "        artists = [\n",
    "            self.artist_retriever.get_artist_name_from_id(artist_id)\n",
    "            for artist_id in artist_ids\n",
    "        ]\n",
    "        return artists, scores\n",
    "\n",
    "\n",
    "if __name__ == \"__main__\":\n",
    "\n",
    "    # load user artists matrix\n",
    "    user_artists = load_user_artists(Path(\"../lastfmdata/user_artists.dat\"))\n",
    "\n",
    "    # instantiate artist retriever\n",
    "    artist_retriever = ArtistRetriever()\n",
    "    artist_retriever.load_artists(Path(\"../lastfmdata/artists.dat\"))\n",
    "\n",
    "    # instantiate ALS using implicit\n",
    "    implict_model = implicit.als.AlternatingLeastSquares(\n",
    "        factors=50, iterations=10, regularization=0.01\n",
    "    )\n",
    "\n",
    "    # instantiate recommender, fit, and recommend\n",
    "    recommender = ImplicitRecommender(artist_retriever, implict_model)\n",
    "    recommender.fit(user_artists)\n",
    "    artists, scores = recommender.recommend(2, user_artists, n=5)\n",
    "\n",
    "    # print results\n",
    "    for artist, score in zip(artists, scores):\n",
    "        print(f\"{artist}: {score}\")"
   ]
  }
 ],
 "metadata": {
  "kernelspec": {
   "display_name": "base",
   "language": "python",
   "name": "python3"
  },
  "language_info": {
   "codemirror_mode": {
    "name": "ipython",
    "version": 3
   },
   "file_extension": ".py",
   "mimetype": "text/x-python",
   "name": "python",
   "nbconvert_exporter": "python",
   "pygments_lexer": "ipython3",
   "version": "3.11.0"
  },
  "orig_nbformat": 4
 },
 "nbformat": 4,
 "nbformat_minor": 2
}
