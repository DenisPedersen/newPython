{
 "cells": [
  {
   "cell_type": "code",
   "execution_count": 10,
   "metadata": {},
   "outputs": [
    {
     "name": "stdout",
     "output_type": "stream",
     "text": [
      "INXS\n"
     ]
    }
   ],
   "source": [
    "from pathlib import Path\n",
    "\n",
    "import scipy\n",
    "import pandas as pd\n",
    "\n",
    "def load_user_artists(user_artists_file: Path) -> scipy.sparse.csr_matrix:\n",
    "    \"\"\"Load the user artists file and return a user-artists matrix in csr format.\"\"\"\n",
    "    user_artists = pd.read_csv(user_artists_file, sep=\"\\t\")\n",
    "    user_artists.set_index([\"userID\", \"artistID\"], inplace=True)\n",
    "    coo = scipy.sparse.coo_matrix(\n",
    "        (\n",
    "            user_artists.weight.astype(float),\n",
    "            (\n",
    "                user_artists.index.get_level_values(0),\n",
    "                user_artists.index.get_level_values(1),\n",
    "            ),\n",
    "        )\n",
    "    )\n",
    "    return coo.tocsr()\n",
    "\n",
    "class ArtistRetriever:\n",
    "    \"\"\"The ArtistRetriever class gets the artist name from the artist ID.\"\"\"\n",
    "\n",
    "    def __init__(self):\n",
    "        self.artists_df = None\n",
    "\n",
    "    def get_artist_name_from_id(self, artist_id: int) -> str:\n",
    "            \"\"\"Return the artist name from the artist ID.\"\"\"\n",
    "            return self.artists_df.loc[artist_id, \"name\"]\n",
    "        \n",
    "    def load_artists(self, artists_file: Path) -> None:\n",
    "            \"\"\"Load the artists file and stores it as a Pandas dataframe in a private attribute.\"\"\"\n",
    "            artists_df = pd.read_csv(artists_file, sep=\"\\t\")\n",
    "            artists_df = artists_df.set_index(\"id\")\n",
    "            self.artists_df = artists_df\n",
    "\n",
    "if __name__ == \"__main__\":\n",
    "    user_artists_matrix = load_user_artists(\n",
    "        Path(\"/home/jovyan/my_notebooks/15_exam_prep/recommender/lastfmdata/user_artists.dat\")\n",
    "    )\n",
    "    #print(user_artists_matrix)\n",
    "    artist_retriever = ArtistRetriever()\n",
    "    artist_retriever.load_artists(Path(\"../recommender/lastfmdata/artists.dat\"))\n",
    "    artist = artist_retriever.get_artist_name_from_id(99)\n",
    "    print(artist)\n",
    "    "
   ]
  }
 ],
 "metadata": {
  "kernelspec": {
   "display_name": "base",
   "language": "python",
   "name": "python3"
  },
  "language_info": {
   "codemirror_mode": {
    "name": "ipython",
    "version": 3
   },
   "file_extension": ".py",
   "mimetype": "text/x-python",
   "name": "python",
   "nbconvert_exporter": "python",
   "pygments_lexer": "ipython3",
   "version": "3.10.8"
  },
  "orig_nbformat": 4
 },
 "nbformat": 4,
 "nbformat_minor": 2
}
