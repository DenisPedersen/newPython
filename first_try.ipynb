{
 "cells": [
  {
   "attachments": {},
   "cell_type": "markdown",
   "metadata": {},
   "source": [
    "Collaborative filtering/Matrix factorization: \n",
    "User Item Matrix. Here the items is songs/artists. \n",
    "User can rate the artist from 1-10, and with a (-) if the user has no opinion of the artist. \n",
    "The goal is to predict what the user will think about other artists from the opinion the user has on already known artists.\n",
    "The matrix factorization algorithm called alternating least square can be used to predict the user's opinion about an unknown artist. \n",
    "The idea behind the algorithm is that the user matrix and the artist matrix has the same number of factors. These factors are features that represent certain characteristics of users and artists. F.x, the one row, in both user and artist matrix,  can represent a genre of music and another row can be a list of instruments used by artist in the artist matrix and a list of instruments used by artist that the user likes in the user matrix. The important thing is the number of factors are the same in the user and artist matrix to better be able to fill out the combined user-artist-matrix. The black-box training model should be able to fill out the blanks given simple user input.\n",
    "\n",
    "It should be a dot-product that combines the cells from the user-matrix and the artist-matrix and puts the prediction in the user-artist-matrix. \n",
    "\n",
    "Only two steps are needed to make the algorithm work:\n",
    "1. Multiply a user vector with all artist vectors. \n",
    "2. Recommend n artists with highest scores, who are new to the user.\n",
    "\n",
    "So how is that done with alternating least squares? Two steps are needed:\n",
    "1. Fix user matrix and find the optimal artist matrix.\n",
    "2. Fix artist matrix and find the optimal user matrix.\n",
    "\n",
    "--> The two steps are done in succession multiple times. This is where the optimal is done by minimizing the least squares. \n",
    "\n"
   ]
  },
  {
   "cell_type": "code",
   "execution_count": null,
   "metadata": {},
   "outputs": [],
   "source": []
  }
 ],
 "metadata": {
  "kernelspec": {
   "display_name": "base",
   "language": "python",
   "name": "python3"
  },
  "language_info": {
   "codemirror_mode": {
    "name": "ipython",
    "version": 3
   },
   "file_extension": ".py",
   "mimetype": "text/x-python",
   "name": "python",
   "nbconvert_exporter": "python",
   "pygments_lexer": "ipython3",
   "version": "3.10.8"
  },
  "orig_nbformat": 4
 },
 "nbformat": 4,
 "nbformat_minor": 2
}
